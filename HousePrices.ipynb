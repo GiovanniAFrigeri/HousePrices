{
 "metadata": {
  "language_info": {
   "codemirror_mode": {
    "name": "ipython",
    "version": 3
   },
   "file_extension": ".py",
   "mimetype": "text/x-python",
   "name": "python",
   "nbconvert_exporter": "python",
   "pygments_lexer": "ipython3",
   "version": "3.8.3-final"
  },
  "orig_nbformat": 2,
  "kernelspec": {
   "name": "Python 3.8.3 64-bit ('base': conda)",
   "display_name": "Python 3.8.3 64-bit ('base': conda)",
   "metadata": {
    "interpreter": {
     "hash": "fb1b2022f0e6bd018a83a53573814c4f79198bbae699144bafce532cf86b2c16"
    }
   }
  }
 },
 "nbformat": 4,
 "nbformat_minor": 2,
 "cells": [
  {
   "cell_type": "code",
   "execution_count": null,
   "metadata": {},
   "outputs": [],
   "source": [
    "#import the necessary modules\n",
    "\n",
    "import pandas as pd\n",
    "import numpy as np\n",
    "import matplotlib.pyplot as plt\n",
    "import seaborn as sns\n",
    "from sklearn.linear_model import LinearRegression\n",
    "\n",
    "import statsmodels.api as sm\n",
    "from statsmodels.stats.outliers_influence import variance_inflation_factor\n",
    "\n",
    "%matplotlib inline"
   ]
  },
  {
   "cell_type": "code",
   "execution_count": null,
   "metadata": {
    "tags": []
   },
   "outputs": [],
   "source": [
    "#print the columns with missing values and number of them\n",
    "\n",
    "def missing_values(data):\n",
    "    col_missing = 0\n",
    "    \n",
    "    print('COLUMNS WITH MISSING VALUES: \\n')\n",
    "\n",
    "    for col in data.columns: #check each column of the training dataset\n",
    "        if data[col].isnull().sum() != 0: #if there are missing values in that column\n",
    "            print(f'{col}, {data[col].isnull().sum()}') #print the column name a                                                                         number of missing values\n",
    "            col_missing += 1\n",
    "\n",
    "    if col_missing == 0:\n",
    "        print('There are no columns with missing values!')"
   ]
  },
  {
   "cell_type": "code",
   "execution_count": null,
   "metadata": {},
   "outputs": [],
   "source": [
    "#some columns with missing values need to be fixed, because Nan indicates lack of a service instead of lack of the data\n",
    "\n",
    "def fix_missing_values(data):\n",
    "    data['Alley'].fillna('NoAlleyAccess', inplace = True)\n",
    "\n",
    "    data['BsmtQual'].fillna('NoBasement', inplace = True)\n",
    "    data['BsmtCond'].fillna('NoBasement', inplace = True)\n",
    "    data['BsmtExposure'].fillna('NoBasement', inplace = True)\n",
    "    data['BsmtFinType1'].fillna('NoBasement', inplace = True)\n",
    "    data['BsmtFinType2'].fillna('NoBasement', inplace = True)\n",
    "\n",
    "    data['FireplaceQu'].fillna('NoFireplace', inplace = True)\n",
    "\n",
    "    data['GarageType'].fillna('NoGarage', inplace = True)\n",
    "    data['GarageFinish'].fillna('NoGarage', inplace = True)\n",
    "    data['GarageQual'].fillna('NoGarage', inplace = True)\n",
    "    data['GarageCond'].fillna('NoGarage', inplace = True)\n",
    "\n",
    "    data['PoolQC'].fillna('NoPool', inplace = True)\n",
    "\n",
    "    data['Fence'].fillna('NoFence', inplace = True)\n",
    "\n",
    "    data['MiscFeature'].fillna('None', inplace = True)"
   ]
  },
  {
   "cell_type": "code",
   "execution_count": null,
   "metadata": {},
   "outputs": [],
   "source": [
    "def calc_vif(X):\n",
    "\n",
    "    # Calculating VIF\n",
    "    vif = pd.DataFrame()\n",
    "    vif[\"variables\"] = X.columns\n",
    "    vif[\"VIF\"] = [variance_inflation_factor(X.values, i) for i in range(X.shape[1])]\n",
    "\n",
    "    return(vif)"
   ]
  },
  {
   "source": [
    "# Load the data"
   ],
   "cell_type": "markdown",
   "metadata": {}
  },
  {
   "cell_type": "code",
   "execution_count": null,
   "metadata": {},
   "outputs": [],
   "source": [
    "#load the training and testing datasets\n",
    "training_data = pd.read_csv('train.csv')\n",
    "testing_data = pd.read_csv('test.csv')\n",
    "\n",
    "#target variable\n",
    "target = training_data['SalePrice']\n",
    "\n",
    "#drop 'SalePrice' column in the training dataset\n",
    "training_data.drop(columns = 'SalePrice', inplace = True)\n",
    "\n",
    "#merge the training and testing datasets\n",
    "#data_merged = pd.concat([training_data, testing_data], axis = 0)"
   ]
  },
  {
   "cell_type": "code",
   "execution_count": null,
   "metadata": {
    "tags": []
   },
   "outputs": [],
   "source": [
    "print(training_data.shape)\n",
    "print(testing_data.shape)\n",
    "#print(data_merged.shape)"
   ]
  },
  {
   "cell_type": "code",
   "execution_count": null,
   "metadata": {},
   "outputs": [],
   "source": [
    "training_data.head()"
   ]
  },
  {
   "source": [
    "# Treat the missing values"
   ],
   "cell_type": "markdown",
   "metadata": {}
  },
  {
   "cell_type": "code",
   "execution_count": null,
   "metadata": {
    "tags": []
   },
   "outputs": [],
   "source": [
    "#check for missing values\n",
    "print('TRAINING DATASET')\n",
    "missing_values(training_data)\n",
    "\n",
    "print('\\n\\n')\n",
    "\n",
    "print('TESTING DATASET')\n",
    "missing_values(testing_data)"
   ]
  },
  {
   "cell_type": "code",
   "execution_count": null,
   "metadata": {
    "tags": []
   },
   "outputs": [],
   "source": [
    "#fix the missing values that indicate a lack of feature and not a data not available\n",
    "fix_missing_values(training_data)\n",
    "fix_missing_values(testing_data)\n",
    "\n",
    "#check for missing values\n",
    "print('TRAINING DATASET')\n",
    "missing_values(training_data)\n",
    "\n",
    "print('\\n\\n')\n",
    "\n",
    "print('TESTING DATASET')\n",
    "missing_values(testing_data)"
   ]
  },
  {
   "cell_type": "code",
   "execution_count": null,
   "metadata": {},
   "outputs": [],
   "source": [
    "#Garage built more in the past are in worse condition\n",
    "sns.boxplot(training_data['GarageCond'], training_data['GarageYrBlt'])"
   ]
  },
  {
   "cell_type": "code",
   "execution_count": null,
   "metadata": {
    "tags": []
   },
   "outputs": [],
   "source": [
    "#remove 'GarageYrBlt' column, because if there is no garage no built year is available. In addition, we use the fact that a newer garage is reflected in a better condition. \n",
    "if 'GarageYrBlt' in training_data.columns:\n",
    "    training_data.drop(columns = 'GarageYrBlt', inplace = True)\n",
    "else:\n",
    "    print('\\'GarageYrBlt\\' column already removed in training dataset')\n",
    "\n",
    "if 'GarageYrBlt' in testing_data.columns:\n",
    "    testing_data.drop(columns = 'GarageYrBlt', inplace = True)\n",
    "else:\n",
    "    print('\\'GarageYrBlt\\' column already removed in testing dataset')"
   ]
  },
  {
   "cell_type": "code",
   "execution_count": null,
   "metadata": {},
   "outputs": [],
   "source": [
    "training_data.corrwith(training_data['LotFrontage']).sort_values(ascending = False)[0:5]"
   ]
  },
  {
   "cell_type": "code",
   "execution_count": null,
   "metadata": {
    "tags": []
   },
   "outputs": [],
   "source": [
    "#linear regression between 'LotAreaSqrt' and 'LotFrontage'\n",
    "training_data['LotAreaSqrt'] = np.sqrt(training_data['LotArea'])\n",
    "X_lf = sm.add_constant(training_data[training_data['LotFrontage'].notnull()]['LotAreaSqrt'])\n",
    "y_lf = training_data['LotFrontage'].dropna()\n",
    "model_lf = sm.OLS(y_lf, X_lf)\n",
    "results_lf = model_lf.fit()\n",
    "#print(results_lf.summary())\n",
    "\n",
    "print(f'Parameters: {results_lf.params}')\n",
    "print(f'R2: {results_lf.rsquared}')\n",
    "\n",
    "#plot the results of the linear regression\n",
    "plt.scatter(training_data['LotAreaSqrt'], training_data['LotFrontage'])\n",
    "plt.plot(training_data['LotAreaSqrt'], results_lf.params[0] + results_lf.params[1] * training_data['LotAreaSqrt'], '-r')\n",
    "plt.xlabel('LotAreaSqrt')\n",
    "plt.ylabel('LotFrontage')\n",
    "\n",
    "training_data.drop(columns = 'LotAreaSqrt', inplace = True)"
   ]
  },
  {
   "cell_type": "code",
   "execution_count": null,
   "metadata": {},
   "outputs": [],
   "source": [
    "training_data.corrwith(training_data['LotFrontage']).sort_values(ascending = False)[0:5]\n",
    "\n",
    "#'LotFrontage' and 'LotAreaSqrt' are correlated, so I can use this relationship to replace the missing values in 'LotFrontage'"
   ]
  },
  {
   "cell_type": "code",
   "execution_count": null,
   "metadata": {},
   "outputs": [],
   "source": [
    "#Replace missing values of 'LotFrontage' with square root of 'LotArea' (see linear regression above)\n",
    "training_data['LotFrontage'].fillna(results_lf.params[0] + results_lf.params[1] * np.sqrt(training_data['LotArea']), inplace = True)\n",
    "\n",
    "testing_data['LotFrontage'].fillna(results_lf.params[0] + results_lf.params[1] * np.sqrt(testing_data['LotArea']), inplace = True)"
   ]
  },
  {
   "cell_type": "code",
   "execution_count": null,
   "metadata": {
    "tags": []
   },
   "outputs": [],
   "source": [
    "#check for missing values\n",
    "print('TRAINING DATASET')\n",
    "missing_values(training_data)\n",
    "\n",
    "print('\\n\\n')\n",
    "\n",
    "print('TESTING DATASET')\n",
    "missing_values(testing_data)"
   ]
  },
  {
   "cell_type": "code",
   "execution_count": null,
   "metadata": {
    "tags": []
   },
   "outputs": [],
   "source": [
    "#Drop the rows with the remaining missing values\n",
    "training_data.dropna(axis = 0, inplace = True)\n",
    "testing_data.dropna(axis = 0, inplace = True)\n",
    "\n",
    "print(f'Dimensions training dataset: {training_data.shape}')\n",
    "print(f'Dimensions testing dataset: {testing_data.shape}')"
   ]
  },
  {
   "cell_type": "code",
   "execution_count": null,
   "metadata": {
    "tags": []
   },
   "outputs": [],
   "source": [
    "#check for missing values\n",
    "print('TRAINING DATASET')\n",
    "missing_values(training_data)\n",
    "\n",
    "print('\\n\\n')\n",
    "\n",
    "print('TESTING DATASET')\n",
    "missing_values(testing_data)"
   ]
  },
  {
   "source": [
    "# One-hot encoding of categorical variables"
   ],
   "cell_type": "markdown",
   "metadata": {}
  },
  {
   "cell_type": "code",
   "execution_count": 73,
   "metadata": {
    "tags": []
   },
   "outputs": [],
   "source": [
    "from sklearn.preprocessing import OneHotEncoder\n",
    "\n",
    "#find categorical features\n",
    "categorical_cols = training_data.columns[training_data.dtypes == 'object']\n",
    "# creating one hot encoder object \n",
    "encoder = OneHotEncoder(drop = 'first')\n",
    "#encode the categorical variable\n",
    "X = encoder.fit_transform(training_data[categorical_cols])\n",
    "#To add this back into the original dataframe \n",
    "df_encoded = pd.DataFrame(X.toarray(), columns = encoder.get_feature_names(categorical_cols))\n",
    "#Concatenate training_data with encoded dataframe\n",
    "training_data_encoded = pd.concat([training_data, df_encoded], axis=1)\n",
    "#Drop the original categorical columns because they are encoded now\n",
    "training_data_encoded.drop(columns = categorical_cols, inplace = True) "
   ]
  },
  {
   "cell_type": "code",
   "execution_count": 74,
   "metadata": {},
   "outputs": [
    {
     "output_type": "execute_result",
     "data": {
      "text/plain": "(1460, 259)"
     },
     "metadata": {},
     "execution_count": 74
    }
   ],
   "source": [
    "training_data_encoded.shape"
   ]
  }
 ]
}